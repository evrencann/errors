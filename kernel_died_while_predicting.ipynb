{
 "cells": [
  {
   "cell_type": "code",
   "execution_count": 2,
   "metadata": {},
   "outputs": [
    {
     "name": "stderr",
     "output_type": "stream",
     "text": [
      "Using TensorFlow backend.\n"
     ]
    }
   ],
   "source": [
    "from tensorflow.keras.layers import Conv2D, MaxPooling2D, UpSampling2D, BatchNormalization, Flatten, Dense\n",
    "from tensorflow.keras.models import Sequential\n",
    "from tensorflow.keras.preprocessing.image import ImageDataGenerator\n",
    "from tensorflow.keras.optimizers import Adam, SGD\n",
    "from tensorflow.keras.callbacks import ModelCheckpoint, EarlyStopping, CSVLogger, TensorBoard\n",
    "import numpy as np\n",
    "import matplotlib.pyplot as plt\n",
    "import os\n",
    "import cv2\n",
    "from keras.preprocessing.image import img_to_array\n",
    "from tqdm import tqdm\n",
    "import math\n",
    "import PIL"
   ]
  },
  {
   "cell_type": "code",
   "execution_count": 3,
   "metadata": {},
   "outputs": [],
   "source": [
    "clean_data_path = '/home/evren/classified_data/clean_data/'\n",
    "noisy_15dB_path = '/home/evren/classified_data/noisy_data/15dB/'\n"
   ]
  },
  {
   "cell_type": "code",
   "execution_count": 4,
   "metadata": {},
   "outputs": [],
   "source": [
    "# Data Augmentation\n",
    "\n",
    "datagen_clean = ImageDataGenerator(\n",
    "    \n",
    "    featurewise_center=False,  # set input mean to 0 over the dataset\n",
    "    samplewise_center=False,  # set each sample mean to 0\n",
    "    featurewise_std_normalization=False,  # divide inputs by std of the dataset\n",
    "    samplewise_std_normalization=False,  # divide each input by its std\n",
    "    zca_epsilon=1e-06,  # epsilon for ZCA whitening\n",
    "    rotation_range=0,  # randomly rotate images in the range (degrees, 0 to 180)\n",
    "    width_shift_range=0,  # randomly shift images horizontally (fraction of total width)\n",
    "    height_shift_range=0,  # randomly shift images vertically (fraction of total height)\n",
    "    brightness_range=None,\n",
    "    shear_range=0.0,\n",
    "    zoom_range=0.1,\n",
    "    channel_shift_range=0.0,\n",
    "    fill_mode='nearest',\n",
    "    cval=0.0,\n",
    "    horizontal_flip=False,  \n",
    "    vertical_flip=False, \n",
    "    rescale = 1./255,\n",
    "    preprocessing_function=None,\n",
    "    data_format='channels_last', # means that the images should have shape (samples, height, width, channels)\n",
    "    validation_split=0.0,\n",
    "    dtype='float32'\n",
    ")"
   ]
  },
  {
   "cell_type": "code",
   "execution_count": 5,
   "metadata": {},
   "outputs": [],
   "source": [
    "# Data Augmentation\n",
    "\n",
    "datagen_noisy = ImageDataGenerator(\n",
    "    \n",
    "    featurewise_center=False,  # set input mean to 0 over the dataset\n",
    "    samplewise_center=False,  # set each sample mean to 0\n",
    "    featurewise_std_normalization=False,  # divide inputs by std of the dataset\n",
    "    samplewise_std_normalization=False,  # divide each input by its std\n",
    "    zca_epsilon=1e-06,  # epsilon for ZCA whitening\n",
    "    rotation_range=0,  # randomly rotate images in the range (degrees, 0 to 180)\n",
    "    width_shift_range=0,  # randomly shift images horizontally (fraction of total width)\n",
    "    height_shift_range=0,  # randomly shift images vertically (fraction of total height)\n",
    "    brightness_range=None,\n",
    "    shear_range=0.0,\n",
    "    zoom_range=0.1,\n",
    "    channel_shift_range=0.0,\n",
    "    fill_mode='nearest',\n",
    "    cval=0.0,\n",
    "    horizontal_flip=False,  \n",
    "    vertical_flip=False, \n",
    "    rescale = 1./255,\n",
    "    preprocessing_function=None,\n",
    "    data_format='channels_last', # means that the images should have shape (samples, height, width, channels)\n",
    "    validation_split=0.2,\n",
    "    dtype='float32'\n",
    ")"
   ]
  },
  {
   "cell_type": "code",
   "execution_count": 6,
   "metadata": {},
   "outputs": [
    {
     "name": "stdout",
     "output_type": "stream",
     "text": [
      "Found 69071 images belonging to 1 classes.\n"
     ]
    }
   ],
   "source": [
    "clean_data_gen = datagen_clean.flow_from_directory(\n",
    "                clean_data_path,\n",
    "                target_size=(64,128),\n",
    "                color_mode='grayscale',\n",
    "                classes=None,\n",
    "                class_mode='input', # \"input\" will be images identical to input images (mainly used to work with autoencoders)\n",
    "                batch_size=69071,\n",
    "                shuffle=True, \n",
    "                seed=42,\n",
    "                save_to_dir=None,\n",
    "                save_prefix='augmented_',\n",
    "                save_format='png',\n",
    "                follow_links=False,\n",
    "                subset=None,\n",
    "                interpolation='nearest'\n",
    ")"
   ]
  },
  {
   "cell_type": "code",
   "execution_count": 7,
   "metadata": {},
   "outputs": [
    {
     "name": "stdout",
     "output_type": "stream",
     "text": [
      "Found 69071 images belonging to 1 classes.\n"
     ]
    }
   ],
   "source": [
    "noisy_15dB_gen = datagen_noisy.flow_from_directory(\n",
    "                noisy_15dB_path,\n",
    "                target_size=(64,128),\n",
    "                color_mode='grayscale',\n",
    "                classes=None,\n",
    "                class_mode='input', # \"input\" will be images identical to input images (mainly used to work with autoencoders)\n",
    "                batch_size=128,\n",
    "                shuffle=True, \n",
    "                seed=42,\n",
    "                save_to_dir=None,\n",
    "                save_prefix='augmented_',\n",
    "                save_format='png',\n",
    "                follow_links=False,\n",
    "                subset=None,\n",
    "                interpolation='nearest'\n",
    ")"
   ]
  },
  {
   "cell_type": "code",
   "execution_count": null,
   "metadata": {},
   "outputs": [],
   "source": [
    "print(noisy_15dB_gen.batch_size)\n",
    "print(clean_data_gen.batch_size)\n",
    "# steps_per_epoch = 69071 // noisy_15dB_gen.batch_size\n",
    "# print(steps_per_epoch)"
   ]
  },
  {
   "cell_type": "code",
   "execution_count": 8,
   "metadata": {},
   "outputs": [],
   "source": [
    "steps_per_epoch = 69071 / noisy_15dB_gen.batch_size"
   ]
  },
  {
   "cell_type": "code",
   "execution_count": null,
   "metadata": {},
   "outputs": [],
   "source": [
    "data_list_15dB = []\n",
    "batch_index = 1\n",
    "\n",
    "while batch_index <= steps_per_epoch:\n",
    "    data = noisy_15dB_gen.next()\n",
    "    data_list_15dB.append(data[0])\n",
    "    print(batch_index)    \n",
    "    batch_index = batch_index + 1"
   ]
  },
  {
   "cell_type": "code",
   "execution_count": null,
   "metadata": {},
   "outputs": [],
   "source": [
    "data_array_15dB = np.asarray(data_list_15dB, dtype=np.float32)\n",
    "\n",
    "print(len(data_list_15dB))\n",
    "print(len(data_array_15dB))\n",
    "del data_list_15dB"
   ]
  },
  {
   "cell_type": "code",
   "execution_count": null,
   "metadata": {},
   "outputs": [],
   "source": []
  },
  {
   "cell_type": "code",
   "execution_count": 9,
   "metadata": {},
   "outputs": [],
   "source": [
    "height = 64\n",
    "width = 128\n",
    "channel = 1\n",
    "\n",
    "\n",
    "model = Sequential([\n",
    "    \n",
    "  # encoder\n",
    "    Conv2D(8, (3,3), padding=\"same\", activation=\"relu\", input_shape=(height,width,channel)),\n",
    "    BatchNormalization(),\n",
    "    MaxPooling2D((2,2),strides=(2,2)),\n",
    "    \n",
    "    \n",
    "    # decoder\n",
    "    Conv2D(8, (3,3), padding=\"same\", activation=\"relu\"),\n",
    "    UpSampling2D((2,2)),\n",
    "    \n",
    "    Conv2D(channel, (3,3), padding=\"same\", activation=\"sigmoid\") # sigmoid, relu    \n",
    "])"
   ]
  },
  {
   "cell_type": "code",
   "execution_count": 10,
   "metadata": {},
   "outputs": [
    {
     "name": "stdout",
     "output_type": "stream",
     "text": [
      "Model: \"sequential\"\n",
      "_________________________________________________________________\n",
      "Layer (type)                 Output Shape              Param #   \n",
      "=================================================================\n",
      "conv2d (Conv2D)              (None, 64, 128, 8)        80        \n",
      "_________________________________________________________________\n",
      "batch_normalization (BatchNo (None, 64, 128, 8)        32        \n",
      "_________________________________________________________________\n",
      "max_pooling2d (MaxPooling2D) (None, 32, 64, 8)         0         \n",
      "_________________________________________________________________\n",
      "conv2d_1 (Conv2D)            (None, 32, 64, 8)         584       \n",
      "_________________________________________________________________\n",
      "up_sampling2d (UpSampling2D) (None, 64, 128, 8)        0         \n",
      "_________________________________________________________________\n",
      "conv2d_2 (Conv2D)            (None, 64, 128, 1)        73        \n",
      "=================================================================\n",
      "Total params: 769\n",
      "Trainable params: 753\n",
      "Non-trainable params: 16\n",
      "_________________________________________________________________\n"
     ]
    }
   ],
   "source": [
    "model.summary()"
   ]
  },
  {
   "cell_type": "code",
   "execution_count": 11,
   "metadata": {},
   "outputs": [],
   "source": [
    "model.compile(optimizer=Adam(lr=0.0001), loss='mse', metrics=['accuracy'])"
   ]
  },
  {
   "cell_type": "code",
   "execution_count": null,
   "metadata": {},
   "outputs": [],
   "source": []
  },
  {
   "cell_type": "code",
   "execution_count": 12,
   "metadata": {},
   "outputs": [
    {
     "name": "stdout",
     "output_type": "stream",
     "text": [
      "WARNING:tensorflow:sample_weight modes were coerced from\n",
      "  ...\n",
      "    to  \n",
      "  ['...']\n",
      "Train for 540 steps\n",
      "Epoch 1/15\n",
      "540/540 [==============================] - 119s 220ms/step - loss: 0.0063 - accuracy: 1.2389e-06\n",
      "Epoch 2/15\n",
      "540/540 [==============================] - 119s 221ms/step - loss: 0.0026 - accuracy: 1.5658e-06\n",
      "Epoch 3/15\n",
      "540/540 [==============================] - 121s 223ms/step - loss: 0.0020 - accuracy: 1.6648e-06\n",
      "Epoch 4/15\n",
      "540/540 [==============================] - 121s 223ms/step - loss: 0.0018 - accuracy: 1.6736e-06\n",
      "Epoch 5/15\n",
      "540/540 [==============================] - 120s 223ms/step - loss: 0.0016 - accuracy: 1.6825e-06\n",
      "Epoch 6/15\n",
      "540/540 [==============================] - 120s 223ms/step - loss: 0.0015 - accuracy: 1.5977e-06\n",
      "Epoch 7/15\n",
      "540/540 [==============================] - 120s 222ms/step - loss: 0.0014 - accuracy: 1.7267e-06\n",
      "Epoch 8/15\n",
      "540/540 [==============================] - 119s 220ms/step - loss: 0.0014 - accuracy: 1.6790e-06\n",
      "Epoch 9/15\n",
      "540/540 [==============================] - 119s 220ms/step - loss: 0.0013 - accuracy: 1.6931e-06\n",
      "Epoch 10/15\n",
      "540/540 [==============================] - 122s 226ms/step - loss: 0.0013 - accuracy: 1.7355e-06\n",
      "Epoch 11/15\n",
      "540/540 [==============================] - 119s 221ms/step - loss: 0.0012 - accuracy: 1.5305e-06\n",
      "Epoch 12/15\n",
      "540/540 [==============================] - 119s 221ms/step - loss: 0.0012 - accuracy: 1.5358e-06 - loss: 0.0012 - accuracy: 1.51\n",
      "Epoch 13/15\n",
      "540/540 [==============================] - 120s 221ms/step - loss: 0.0011 - accuracy: 1.5888e-06\n",
      "Epoch 14/15\n",
      "540/540 [==============================] - 120s 222ms/step - loss: 0.0011 - accuracy: 1.7231e-06\n",
      "Epoch 15/15\n",
      "540/540 [==============================] - 121s 224ms/step - loss: 0.0011 - accuracy: 1.5605e-06\n"
     ]
    }
   ],
   "source": [
    "history = model.fit(noisy_15dB_gen,\n",
    "                    epochs=15,\n",
    "                   )\n",
    "\n",
    "# If x is a dataset, generator, or keras.utils.Sequence instance, \n",
    "# y should not be specified (since targets will be obtained from x). "
   ]
  },
  {
   "cell_type": "code",
   "execution_count": 15,
   "metadata": {},
   "outputs": [
    {
     "data": {
      "image/png": "[encoded data removed]",
      "text/plain": [
       "<Figure size 1224x432 with 1 Axes>"
      ]
     },
     "metadata": {
      "needs_background": "light"
     },
     "output_type": "display_data"
    },
    {
     "data": {
      "image/png": "[encoded data removed]",
      "text/plain": [
       "<Figure size 1224x432 with 1 Axes>"
      ]
     },
     "metadata": {
      "needs_background": "light"
     },
     "output_type": "display_data"
    }
   ],
   "source": [
    "plt.rcParams['figure.figsize'] = (17,6)\n",
    "fig, ax1 = plt.subplots()\n",
    "xepochs = range(1,len(history.history['loss']) + 1)\n",
    "\n",
    "plt.plot(xepochs, history.history['loss'], label = 'loss')\n",
    "# plt.plot(xepochs, history.history['val_loss'], label = 'val_loss')\n",
    "plt.title('Loss')\n",
    "plt.legend()\n",
    "plt.show()\n",
    "\n",
    "plt.plot(xepochs, history.history['accuracy'], label = 'accuracy')\n",
    "# plt.plot(xepochs, history.history['val_accuracy'], label = 'val_accuracy')\n",
    "plt.title('Metrics (Accuracy)')\n",
    "plt.legend()\n",
    "plt.show()"
   ]
  },
  {
   "cell_type": "code",
   "execution_count": 16,
   "metadata": {},
   "outputs": [],
   "source": [
    "noisy_20dB_path = '/home/evren/classified_data/noisy_data/20dB/'"
   ]
  },
  {
   "cell_type": "code",
   "execution_count": 17,
   "metadata": {},
   "outputs": [
    {
     "name": "stdout",
     "output_type": "stream",
     "text": [
      "Found 69071 images belonging to 1 classes.\n"
     ]
    }
   ],
   "source": [
    "noisy_20dB_gen = datagen_clean.flow_from_directory(\n",
    "                noisy_20dB_path,\n",
    "                target_size=(64,128),\n",
    "                color_mode='grayscale',\n",
    "                classes=None,\n",
    "                class_mode='input', # \"input\" will be images identical to input images (mainly used to work with autoencoders)\n",
    "                batch_size=69071,\n",
    "                shuffle=True, \n",
    "                seed=42,\n",
    "                save_to_dir=None,\n",
    "                save_prefix='augmented_',\n",
    "                save_format='png',\n",
    "                follow_links=False,\n",
    "                subset=None,\n",
    "                interpolation='nearest'\n",
    ")"
   ]
  },
  {
   "cell_type": "code",
   "execution_count": null,
   "metadata": {},
   "outputs": [],
   "source": [
    "# kernel died while predicting"
   ]
  },
  {
   "cell_type": "code",
   "execution_count": null,
   "metadata": {},
   "outputs": [],
   "source": [
    "decoded_20dB = model.predict(noisy_20dB_gen)\n",
    "decoded_clean = model.predict(clean_data_gen)"
   ]
  },
  {
   "cell_type": "code",
   "execution_count": null,
   "metadata": {},
   "outputs": [],
   "source": [
    "plt.figure(figsize=(17,4))\n",
    "for i in range(1,7):\n",
    "    ax = plt.subplot(1,7,i)\n",
    "    plt.imshow(noisy_20dB_gen[i])\n",
    "plt.show()\n",
    "\n",
    "# Displaying prediction_train images\n",
    "plt.figure(figsize=(17,4))\n",
    "for i in range(1,7):\n",
    "    ax = plt.subplot(1,7,i)\n",
    "    plt.imshow(decoded_20dB[i])\n",
    "plt.show()"
   ]
  },
  {
   "cell_type": "code",
   "execution_count": null,
   "metadata": {},
   "outputs": [],
   "source": [
    "def PSNR(original, compressed): \n",
    "    mse = np.mean((original - compressed) ** 2) \n",
    "    if(mse == 0):  # MSE is zero means no noise is present in the signal . \n",
    "                  # Therefore PSNR have no importance. \n",
    "        return 100\n",
    "    max_pixel = 255.0\n",
    "    psnr = 20 * math.log10(max_pixel / math.sqrt(mse)) \n",
    "    return psnr"
   ]
  },
  {
   "cell_type": "code",
   "execution_count": null,
   "metadata": {},
   "outputs": [],
   "source": [
    "print(f'15dB PSNR mean: {PSNR(noisy_15dB, decoded_15dB)}')\n",
    "\n",
    "for i in range(len(noisy_15dB)):\n",
    "    \n",
    "    value = PSNR(noisy_15dB[i], decoded_15dB[i]) "
   ]
  }
 ],
 "metadata": {
  "kernelspec": {
   "display_name": "Python 3",
   "language": "python",
   "name": "python3"
  },
  "language_info": {
   "codemirror_mode": {
    "name": "ipython",
    "version": 2
   },
   "file_extension": ".py",
   "mimetype": "text/x-python",
   "name": "python",
   "nbconvert_exporter": "python",
   "pygments_lexer": "ipython2",
   "version": "2.7.12"
  }
 },
 "nbformat": 4,
 "nbformat_minor": 2
}
